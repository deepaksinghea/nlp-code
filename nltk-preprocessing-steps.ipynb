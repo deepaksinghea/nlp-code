{
 "cells": [
  {
   "cell_type": "code",
   "execution_count": 13,
   "id": "c3908811",
   "metadata": {},
   "outputs": [],
   "source": [
    "import nltk"
   ]
  },
  {
   "cell_type": "code",
   "execution_count": 25,
   "id": "abf7a90a",
   "metadata": {},
   "outputs": [],
   "source": [
    "information = \"\"\"\n",
    "Abraham Lincoln was an American statesman and lawyer who served as the 16th president of the United States from 1861 until his assassination in 1865. Lincoln led the nation through the American Civil War, the country's greatest moral, cultural, constitutional, and political crisis. He succeeded in preserving the Union, abolishing slavery, bolstering the federal government, and modernizing the U.S. economy.\n",
    "\n",
    "Lincoln was born into poverty in a log cabin and was raised on the frontier primarily in Indiana. He was self-educated and became a lawyer, Whig Party leader, Illinois state legislator, and U.S. Congressman from Illinois. In 1849, he returned to his law practice but became vexed by the opening of additional lands to slavery as a result of the Kansas–Nebraska Act. He reentered politics in 1854, becoming a leader in the new Republican Party, and he reached a national audience in the 1858 debates against Stephen Douglas. Lincoln ran for President in 1860, sweeping the North in victory. Pro-slavery elements in the South equated his success with the North's rejection of their right to practice slavery, and southern states began seceding from the union. To secure its independence, the new Confederate States fired on Fort Sumter, a U.S. fort in the South, and Lincoln called up forces to suppress the rebellion and restore the Union.\n",
    "\n",
    "As the leader of moderate Republicans, Lincoln had to navigate a contentious array of factions with friends and opponents on both sides. War Democrats rallied a large faction of former opponents into his moderate camp, but they were countered by Radical Republicans, who demanded harsh treatment of the Southern Confederates. Anti-war Democrats (called \"Copperheads\") despised him, and irreconcilable pro-Confederate elements plotted his assassination. Lincoln managed the factions by exploiting their mutual enmity, by carefully distributing political patronage, and by appealing to the U.S. people. His Gettysburg Address became a historic clarion call for nationalism, republicanism, equal rights, liberty, and democracy. Lincoln scrutinized the strategy and tactics in the war effort, including the selection of generals and the naval blockade of the South's trade. He suspended habeas corpus, and he averted British intervention by defusing the Trent Affair. He engineered the end to slavery with his Emancipation Proclamation and his order that the Army protect and recruit former slaves. He also encouraged border states to outlaw slavery, and promoted the Thirteenth Amendment to the United States Constitution, which outlawed slavery across the country.\n",
    "\n",
    "Lincoln managed his own successful re-election campaign. He sought to heal the war-torn nation through reconciliation. On April 14, 1865, just days after the war's end at Appomattox, Lincoln was attending a play at Ford's Theatre with his wife Mary when he was assassinated by Confederate sympathizer John Wilkes Booth. Lincoln is remembered as the martyr hero of the United States and he is consistently ranked as one of the greatest presidents in American history.\n",
    "\"\"\""
   ]
  },
  {
   "cell_type": "code",
   "execution_count": 26,
   "id": "c3900891",
   "metadata": {},
   "outputs": [],
   "source": [
    "sentences = nltk.sent_tokenize(information)"
   ]
  },
  {
   "cell_type": "code",
   "execution_count": 27,
   "id": "b2c593b6",
   "metadata": {},
   "outputs": [],
   "source": [
    "words = nltk.word_tokenize(information)"
   ]
  },
  {
   "cell_type": "code",
   "execution_count": 29,
   "id": "0914c22d",
   "metadata": {},
   "outputs": [],
   "source": [
    "from nltk.stem import PorterStemmer\n",
    "from nltk.corpus import stopwords"
   ]
  },
  {
   "cell_type": "code",
   "execution_count": 30,
   "id": "22addd0a",
   "metadata": {},
   "outputs": [],
   "source": [
    "stemmer = PorterStemmer()"
   ]
  },
  {
   "cell_type": "code",
   "execution_count": 20,
   "id": "e7b95c43",
   "metadata": {},
   "outputs": [],
   "source": [
    "for i in range(0,len(sentences)):\n",
    "    words = nltk.word_tokenize(sentences[i])\n",
    "    words = [stemmer.stem(word) for word in words if word not in set(stopwords.words('english'))]\n",
    "    sentences[i] = ' '.join(words)"
   ]
  },
  {
   "cell_type": "code",
   "execution_count": 31,
   "id": "2f2c1a8e",
   "metadata": {},
   "outputs": [],
   "source": [
    "from nltk.stem import WordNetLemmatizer\n",
    "lemmatizer = WordNetLemmatizer()"
   ]
  },
  {
   "cell_type": "code",
   "execution_count": 32,
   "id": "b98c2e3b",
   "metadata": {},
   "outputs": [],
   "source": [
    "for i in range(0,len(sentences)):\n",
    "    words = nltk.word_tokenize(sentences[i])\n",
    "    words = [lemmatizer.lemmatize(word) for word in words if word not in set(stopwords.words('english'))]\n",
    "    sentences[i] = ' '.join(words)"
   ]
  },
  {
   "cell_type": "code",
   "execution_count": 34,
   "id": "374b22de",
   "metadata": {},
   "outputs": [],
   "source": [
    "import re"
   ]
  },
  {
   "cell_type": "code",
   "execution_count": 37,
   "id": "fa3461c5",
   "metadata": {},
   "outputs": [],
   "source": [
    "corpus = []\n",
    "for i in range(len(sentences)):\n",
    "    info = re.sub('[^a-zA-Z]',' ',sentences[i])\n",
    "    info = info.lower()\n",
    "    info = info.split()\n",
    "    info = [lemmatizer.lemmatize(word) for word in info if not word in set(stopwords.words('english'))]\n",
    "    info = ' '.join(info)\n",
    "    corpus.append(info)"
   ]
  },
  {
   "cell_type": "code",
   "execution_count": 38,
   "id": "90ee5001",
   "metadata": {},
   "outputs": [
    {
     "data": {
      "text/plain": [
       "['abraham lincoln american statesman lawyer served th president united state assassination',\n",
       " 'lincoln led nation american civil war country greatest moral cultural constitutional political crisis',\n",
       " 'succeeded preserving union abolishing slavery bolstering federal government modernizing u economy',\n",
       " 'lincoln born poverty log cabin raised frontier primarily indiana',\n",
       " 'self educated became lawyer whig party leader illinois state legislator u',\n",
       " 'congressman illinois',\n",
       " 'returned law practice became vexed opening additional land slavery result kansa nebraska act',\n",
       " 'reentered politics becoming leader new republican party reached national audience debate stephen douglas',\n",
       " 'lincoln ran president sweeping north victory',\n",
       " 'pro slavery element south equated success north rejection right practice slavery southern state began seceding union',\n",
       " 'secure independence new confederate state fired fort sumter u fort south lincoln called force suppress rebellion restore union',\n",
       " 'leader moderate republican lincoln navigate contentious array faction friend opponent side',\n",
       " 'war democrat rallied large faction former opponent moderate camp countered radical republican demanded harsh treatment southern confederate',\n",
       " 'anti war democrat called copperhead despised irreconcilable pro confederate element plotted assassination',\n",
       " 'lincoln managed faction exploiting mutual enmity carefully distributing political patronage appealing u people',\n",
       " 'gettysburg address became historic clarion call nationalism republicanism equal right liberty democracy',\n",
       " 'lincoln scrutinized strategy tactic war effort including selection general naval blockade south trade',\n",
       " 'suspended habeas corpus averted british intervention defusing trent affair',\n",
       " 'engineered end slavery emancipation proclamation order army protect recruit former slave',\n",
       " 'also encouraged border state outlaw slavery promoted thirteenth amendment united state constitution outlawed slavery across country',\n",
       " 'lincoln managed successful election campaign',\n",
       " 'sought heal war torn nation reconciliation',\n",
       " 'april day war end appomattox lincoln attending play ford theatre wife mary assassinated confederate sympathizer john wilkes booth',\n",
       " 'lincoln remembered martyr hero united state consistently ranked one greatest president american history']"
      ]
     },
     "execution_count": 38,
     "metadata": {},
     "output_type": "execute_result"
    }
   ],
   "source": [
    "corpus"
   ]
  },
  {
   "cell_type": "code",
   "execution_count": 40,
   "id": "4f734d41",
   "metadata": {},
   "outputs": [],
   "source": [
    "from sklearn.feature_extraction.text import CountVectorizer\n",
    "cv = CountVectorizer(max_features=500)"
   ]
  },
  {
   "cell_type": "code",
   "execution_count": 41,
   "id": "2ba33b01",
   "metadata": {},
   "outputs": [],
   "source": [
    "X = cv.fit_transform(corpus).toarray()"
   ]
  },
  {
   "cell_type": "code",
   "execution_count": 42,
   "id": "c0561e7e",
   "metadata": {},
   "outputs": [
    {
     "data": {
      "text/plain": [
       "array([[0, 1, 0, ..., 0, 0, 0],\n",
       "       [0, 0, 0, ..., 0, 0, 0],\n",
       "       [1, 0, 0, ..., 0, 0, 0],\n",
       "       ...,\n",
       "       [0, 0, 0, ..., 0, 0, 0],\n",
       "       [0, 0, 0, ..., 0, 1, 1],\n",
       "       [0, 0, 0, ..., 0, 0, 0]])"
      ]
     },
     "execution_count": 42,
     "metadata": {},
     "output_type": "execute_result"
    }
   ],
   "source": [
    "X"
   ]
  },
  {
   "cell_type": "code",
   "execution_count": 43,
   "id": "0192989d",
   "metadata": {},
   "outputs": [],
   "source": [
    "from sklearn.feature_extraction.text import TfidfVectorizer\n",
    "tfv = TfidfVectorizer()"
   ]
  },
  {
   "cell_type": "code",
   "execution_count": 44,
   "id": "df0907e7",
   "metadata": {},
   "outputs": [],
   "source": [
    "X_tfv = tfv.fit_transform(corpus).toarray()"
   ]
  },
  {
   "cell_type": "code",
   "execution_count": 45,
   "id": "b313a042",
   "metadata": {},
   "outputs": [
    {
     "data": {
      "text/plain": [
       "array([[0.        , 0.35006365, 0.        , ..., 0.        , 0.        ,\n",
       "        0.        ],\n",
       "       [0.        , 0.        , 0.        , ..., 0.        , 0.        ,\n",
       "        0.        ],\n",
       "       [0.33114484, 0.        , 0.        , ..., 0.        , 0.        ,\n",
       "        0.        ],\n",
       "       ...,\n",
       "       [0.        , 0.        , 0.        , ..., 0.        , 0.        ,\n",
       "        0.        ],\n",
       "       [0.        , 0.        , 0.        , ..., 0.        , 0.25009011,\n",
       "        0.25009011],\n",
       "       [0.        , 0.        , 0.        , ..., 0.        , 0.        ,\n",
       "        0.        ]])"
      ]
     },
     "execution_count": 45,
     "metadata": {},
     "output_type": "execute_result"
    }
   ],
   "source": [
    "X_tfv"
   ]
  }
 ],
 "metadata": {
  "kernelspec": {
   "display_name": "Python 3",
   "language": "python",
   "name": "python3"
  },
  "language_info": {
   "codemirror_mode": {
    "name": "ipython",
    "version": 3
   },
   "file_extension": ".py",
   "mimetype": "text/x-python",
   "name": "python",
   "nbconvert_exporter": "python",
   "pygments_lexer": "ipython3",
   "version": "3.8.8"
  }
 },
 "nbformat": 4,
 "nbformat_minor": 5
}
